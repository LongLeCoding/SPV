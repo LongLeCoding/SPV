{
 "cells": [
  {
   "cell_type": "code",
   "execution_count": null,
   "id": "e6bd3788",
   "metadata": {},
   "outputs": [],
   "source": [
    "import pandas as pd\n",
    "import numpy as np\n",
    "import matplotlib.pyplot as plt\n",
    "import matplotlib.colors as colors\n",
    "from sklearn.utils import resample #Down sample the dataset\n",
    "from sklearn.model_selection import train_test_split, cross_val_score, KFold\n",
    "from sklearn.preprocessing import scale #scale and center data\n",
    "from sklearn.svm import SVC #Support Vector Classifier\n",
    "from sklearn.model_selection import GridSearchCV #Cross validation\n",
    "from sklearn.metrics import confusion_matrix\n",
    "from sklearn.metrics import ConfusionMatrixDisplay\n",
    "from sklearn.decomposition import PCA #to perform PCA to plot the data"
   ]
  },
  {
   "cell_type": "markdown",
   "id": "b49ca40d",
   "metadata": {},
   "source": []
  },
  {
   "cell_type": "markdown",
   "id": "b8276ec7",
   "metadata": {},
   "source": [
    "***Import the Data***"
   ]
  },
  {
   "cell_type": "markdown",
   "id": "14d4de21",
   "metadata": {},
   "source": [
    "Now we load in a dataset from the UCI Machine Learning Repository. Specifically, we are going to use the Credit Card Default dataset. \n",
    "This dataset will alow us to predict if someone will default on their credit card payments based on their sex, age and variety of other metrics "
   ]
  },
  {
   "cell_type": "code",
   "execution_count": 2,
   "id": "63a6a4a7",
   "metadata": {},
   "outputs": [
    {
     "data": {
      "text/html": [
       "<div>\n",
       "<style scoped>\n",
       "    .dataframe tbody tr th:only-of-type {\n",
       "        vertical-align: middle;\n",
       "    }\n",
       "\n",
       "    .dataframe tbody tr th {\n",
       "        vertical-align: top;\n",
       "    }\n",
       "\n",
       "    .dataframe thead th {\n",
       "        text-align: right;\n",
       "    }\n",
       "</style>\n",
       "<table border=\"1\" class=\"dataframe\">\n",
       "  <thead>\n",
       "    <tr style=\"text-align: right;\">\n",
       "      <th></th>\n",
       "      <th>ID</th>\n",
       "      <th>LIMIT_BAL</th>\n",
       "      <th>SEX</th>\n",
       "      <th>EDUCATION</th>\n",
       "      <th>MARRIAGE</th>\n",
       "      <th>AGE</th>\n",
       "      <th>PAY_0</th>\n",
       "      <th>PAY_2</th>\n",
       "      <th>PAY_3</th>\n",
       "      <th>PAY_4</th>\n",
       "      <th>...</th>\n",
       "      <th>BILL_AMT4</th>\n",
       "      <th>BILL_AMT5</th>\n",
       "      <th>BILL_AMT6</th>\n",
       "      <th>PAY_AMT1</th>\n",
       "      <th>PAY_AMT2</th>\n",
       "      <th>PAY_AMT3</th>\n",
       "      <th>PAY_AMT4</th>\n",
       "      <th>PAY_AMT5</th>\n",
       "      <th>PAY_AMT6</th>\n",
       "      <th>default payment next month</th>\n",
       "    </tr>\n",
       "  </thead>\n",
       "  <tbody>\n",
       "    <tr>\n",
       "      <th>0</th>\n",
       "      <td>1</td>\n",
       "      <td>20000</td>\n",
       "      <td>2</td>\n",
       "      <td>2</td>\n",
       "      <td>1</td>\n",
       "      <td>24</td>\n",
       "      <td>2</td>\n",
       "      <td>2</td>\n",
       "      <td>-1</td>\n",
       "      <td>-1</td>\n",
       "      <td>...</td>\n",
       "      <td>0</td>\n",
       "      <td>0</td>\n",
       "      <td>0</td>\n",
       "      <td>0</td>\n",
       "      <td>689</td>\n",
       "      <td>0</td>\n",
       "      <td>0</td>\n",
       "      <td>0</td>\n",
       "      <td>0</td>\n",
       "      <td>1</td>\n",
       "    </tr>\n",
       "    <tr>\n",
       "      <th>1</th>\n",
       "      <td>2</td>\n",
       "      <td>120000</td>\n",
       "      <td>2</td>\n",
       "      <td>2</td>\n",
       "      <td>2</td>\n",
       "      <td>26</td>\n",
       "      <td>-1</td>\n",
       "      <td>2</td>\n",
       "      <td>0</td>\n",
       "      <td>0</td>\n",
       "      <td>...</td>\n",
       "      <td>3272</td>\n",
       "      <td>3455</td>\n",
       "      <td>3261</td>\n",
       "      <td>0</td>\n",
       "      <td>1000</td>\n",
       "      <td>1000</td>\n",
       "      <td>1000</td>\n",
       "      <td>0</td>\n",
       "      <td>2000</td>\n",
       "      <td>1</td>\n",
       "    </tr>\n",
       "    <tr>\n",
       "      <th>2</th>\n",
       "      <td>3</td>\n",
       "      <td>90000</td>\n",
       "      <td>2</td>\n",
       "      <td>2</td>\n",
       "      <td>2</td>\n",
       "      <td>34</td>\n",
       "      <td>0</td>\n",
       "      <td>0</td>\n",
       "      <td>0</td>\n",
       "      <td>0</td>\n",
       "      <td>...</td>\n",
       "      <td>14331</td>\n",
       "      <td>14948</td>\n",
       "      <td>15549</td>\n",
       "      <td>1518</td>\n",
       "      <td>1500</td>\n",
       "      <td>1000</td>\n",
       "      <td>1000</td>\n",
       "      <td>1000</td>\n",
       "      <td>5000</td>\n",
       "      <td>0</td>\n",
       "    </tr>\n",
       "    <tr>\n",
       "      <th>3</th>\n",
       "      <td>4</td>\n",
       "      <td>50000</td>\n",
       "      <td>2</td>\n",
       "      <td>2</td>\n",
       "      <td>1</td>\n",
       "      <td>37</td>\n",
       "      <td>0</td>\n",
       "      <td>0</td>\n",
       "      <td>0</td>\n",
       "      <td>0</td>\n",
       "      <td>...</td>\n",
       "      <td>28314</td>\n",
       "      <td>28959</td>\n",
       "      <td>29547</td>\n",
       "      <td>2000</td>\n",
       "      <td>2019</td>\n",
       "      <td>1200</td>\n",
       "      <td>1100</td>\n",
       "      <td>1069</td>\n",
       "      <td>1000</td>\n",
       "      <td>0</td>\n",
       "    </tr>\n",
       "    <tr>\n",
       "      <th>4</th>\n",
       "      <td>5</td>\n",
       "      <td>50000</td>\n",
       "      <td>1</td>\n",
       "      <td>2</td>\n",
       "      <td>1</td>\n",
       "      <td>57</td>\n",
       "      <td>-1</td>\n",
       "      <td>0</td>\n",
       "      <td>-1</td>\n",
       "      <td>0</td>\n",
       "      <td>...</td>\n",
       "      <td>20940</td>\n",
       "      <td>19146</td>\n",
       "      <td>19131</td>\n",
       "      <td>2000</td>\n",
       "      <td>36681</td>\n",
       "      <td>10000</td>\n",
       "      <td>9000</td>\n",
       "      <td>689</td>\n",
       "      <td>679</td>\n",
       "      <td>0</td>\n",
       "    </tr>\n",
       "  </tbody>\n",
       "</table>\n",
       "<p>5 rows × 25 columns</p>\n",
       "</div>"
      ],
      "text/plain": [
       "   ID  LIMIT_BAL  SEX  EDUCATION  MARRIAGE  AGE  PAY_0  PAY_2  PAY_3  PAY_4  \\\n",
       "0   1      20000    2          2         1   24      2      2     -1     -1   \n",
       "1   2     120000    2          2         2   26     -1      2      0      0   \n",
       "2   3      90000    2          2         2   34      0      0      0      0   \n",
       "3   4      50000    2          2         1   37      0      0      0      0   \n",
       "4   5      50000    1          2         1   57     -1      0     -1      0   \n",
       "\n",
       "   ...  BILL_AMT4  BILL_AMT5  BILL_AMT6  PAY_AMT1  PAY_AMT2  PAY_AMT3  \\\n",
       "0  ...          0          0          0         0       689         0   \n",
       "1  ...       3272       3455       3261         0      1000      1000   \n",
       "2  ...      14331      14948      15549      1518      1500      1000   \n",
       "3  ...      28314      28959      29547      2000      2019      1200   \n",
       "4  ...      20940      19146      19131      2000     36681     10000   \n",
       "\n",
       "   PAY_AMT4  PAY_AMT5  PAY_AMT6  default payment next month  \n",
       "0         0         0         0                           1  \n",
       "1      1000         0      2000                           1  \n",
       "2      1000      1000      5000                           0  \n",
       "3      1100      1069      1000                           0  \n",
       "4      9000       689       679                           0  \n",
       "\n",
       "[5 rows x 25 columns]"
      ]
     },
     "execution_count": 2,
     "metadata": {},
     "output_type": "execute_result"
    }
   ],
   "source": [
    "df = pd.read_excel(r\"C:\\Python\\SPV\\default of credit card clients.xls\", header=1, engine='xlrd')\n",
    "df.head()"
   ]
  },
  {
   "cell_type": "code",
   "execution_count": 3,
   "id": "19d03da0",
   "metadata": {},
   "outputs": [
    {
     "data": {
      "text/plain": [
       "ID                            0\n",
       "LIMIT_BAL                     0\n",
       "SEX                           0\n",
       "EDUCATION                     0\n",
       "MARRIAGE                      0\n",
       "AGE                           0\n",
       "PAY_0                         0\n",
       "PAY_2                         0\n",
       "PAY_3                         0\n",
       "PAY_4                         0\n",
       "PAY_5                         0\n",
       "PAY_6                         0\n",
       "BILL_AMT1                     0\n",
       "BILL_AMT2                     0\n",
       "BILL_AMT3                     0\n",
       "BILL_AMT4                     0\n",
       "BILL_AMT5                     0\n",
       "BILL_AMT6                     0\n",
       "PAY_AMT1                      0\n",
       "PAY_AMT2                      0\n",
       "PAY_AMT3                      0\n",
       "PAY_AMT4                      0\n",
       "PAY_AMT5                      0\n",
       "PAY_AMT6                      0\n",
       "default payment next month    0\n",
       "dtype: int64"
      ]
     },
     "execution_count": 3,
     "metadata": {},
     "output_type": "execute_result"
    }
   ],
   "source": [
    "df.isnull().sum()"
   ]
  },
  {
   "cell_type": "code",
   "execution_count": 4,
   "id": "af0be46b",
   "metadata": {},
   "outputs": [
    {
     "data": {
      "text/plain": [
       "Index(['ID', 'LIMIT_BAL', 'SEX', 'EDUCATION', 'MARRIAGE', 'AGE', 'PAY_0',\n",
       "       'PAY_2', 'PAY_3', 'PAY_4', 'PAY_5', 'PAY_6', 'BILL_AMT1', 'BILL_AMT2',\n",
       "       'BILL_AMT3', 'BILL_AMT4', 'BILL_AMT5', 'BILL_AMT6', 'PAY_AMT1',\n",
       "       'PAY_AMT2', 'PAY_AMT3', 'PAY_AMT4', 'PAY_AMT5', 'PAY_AMT6', 'DEFAULT'],\n",
       "      dtype='object')"
      ]
     },
     "execution_count": 4,
     "metadata": {},
     "output_type": "execute_result"
    }
   ],
   "source": [
    "df.rename({'default payment next month' : 'DEFAULT'}, axis = 1, inplace= True)\n",
    "df.columns"
   ]
  },
  {
   "cell_type": "code",
   "execution_count": 5,
   "id": "aecde2cd",
   "metadata": {},
   "outputs": [
    {
     "data": {
      "text/html": [
       "<div>\n",
       "<style scoped>\n",
       "    .dataframe tbody tr th:only-of-type {\n",
       "        vertical-align: middle;\n",
       "    }\n",
       "\n",
       "    .dataframe tbody tr th {\n",
       "        vertical-align: top;\n",
       "    }\n",
       "\n",
       "    .dataframe thead th {\n",
       "        text-align: right;\n",
       "    }\n",
       "</style>\n",
       "<table border=\"1\" class=\"dataframe\">\n",
       "  <thead>\n",
       "    <tr style=\"text-align: right;\">\n",
       "      <th></th>\n",
       "      <th>LIMIT_BAL</th>\n",
       "      <th>SEX</th>\n",
       "      <th>EDUCATION</th>\n",
       "      <th>MARRIAGE</th>\n",
       "      <th>AGE</th>\n",
       "      <th>PAY_0</th>\n",
       "      <th>PAY_2</th>\n",
       "      <th>PAY_3</th>\n",
       "      <th>PAY_4</th>\n",
       "      <th>PAY_5</th>\n",
       "      <th>...</th>\n",
       "      <th>BILL_AMT4</th>\n",
       "      <th>BILL_AMT5</th>\n",
       "      <th>BILL_AMT6</th>\n",
       "      <th>PAY_AMT1</th>\n",
       "      <th>PAY_AMT2</th>\n",
       "      <th>PAY_AMT3</th>\n",
       "      <th>PAY_AMT4</th>\n",
       "      <th>PAY_AMT5</th>\n",
       "      <th>PAY_AMT6</th>\n",
       "      <th>DEFAULT</th>\n",
       "    </tr>\n",
       "  </thead>\n",
       "  <tbody>\n",
       "    <tr>\n",
       "      <th>0</th>\n",
       "      <td>20000</td>\n",
       "      <td>2</td>\n",
       "      <td>2</td>\n",
       "      <td>1</td>\n",
       "      <td>24</td>\n",
       "      <td>2</td>\n",
       "      <td>2</td>\n",
       "      <td>-1</td>\n",
       "      <td>-1</td>\n",
       "      <td>-2</td>\n",
       "      <td>...</td>\n",
       "      <td>0</td>\n",
       "      <td>0</td>\n",
       "      <td>0</td>\n",
       "      <td>0</td>\n",
       "      <td>689</td>\n",
       "      <td>0</td>\n",
       "      <td>0</td>\n",
       "      <td>0</td>\n",
       "      <td>0</td>\n",
       "      <td>1</td>\n",
       "    </tr>\n",
       "    <tr>\n",
       "      <th>1</th>\n",
       "      <td>120000</td>\n",
       "      <td>2</td>\n",
       "      <td>2</td>\n",
       "      <td>2</td>\n",
       "      <td>26</td>\n",
       "      <td>-1</td>\n",
       "      <td>2</td>\n",
       "      <td>0</td>\n",
       "      <td>0</td>\n",
       "      <td>0</td>\n",
       "      <td>...</td>\n",
       "      <td>3272</td>\n",
       "      <td>3455</td>\n",
       "      <td>3261</td>\n",
       "      <td>0</td>\n",
       "      <td>1000</td>\n",
       "      <td>1000</td>\n",
       "      <td>1000</td>\n",
       "      <td>0</td>\n",
       "      <td>2000</td>\n",
       "      <td>1</td>\n",
       "    </tr>\n",
       "    <tr>\n",
       "      <th>2</th>\n",
       "      <td>90000</td>\n",
       "      <td>2</td>\n",
       "      <td>2</td>\n",
       "      <td>2</td>\n",
       "      <td>34</td>\n",
       "      <td>0</td>\n",
       "      <td>0</td>\n",
       "      <td>0</td>\n",
       "      <td>0</td>\n",
       "      <td>0</td>\n",
       "      <td>...</td>\n",
       "      <td>14331</td>\n",
       "      <td>14948</td>\n",
       "      <td>15549</td>\n",
       "      <td>1518</td>\n",
       "      <td>1500</td>\n",
       "      <td>1000</td>\n",
       "      <td>1000</td>\n",
       "      <td>1000</td>\n",
       "      <td>5000</td>\n",
       "      <td>0</td>\n",
       "    </tr>\n",
       "    <tr>\n",
       "      <th>3</th>\n",
       "      <td>50000</td>\n",
       "      <td>2</td>\n",
       "      <td>2</td>\n",
       "      <td>1</td>\n",
       "      <td>37</td>\n",
       "      <td>0</td>\n",
       "      <td>0</td>\n",
       "      <td>0</td>\n",
       "      <td>0</td>\n",
       "      <td>0</td>\n",
       "      <td>...</td>\n",
       "      <td>28314</td>\n",
       "      <td>28959</td>\n",
       "      <td>29547</td>\n",
       "      <td>2000</td>\n",
       "      <td>2019</td>\n",
       "      <td>1200</td>\n",
       "      <td>1100</td>\n",
       "      <td>1069</td>\n",
       "      <td>1000</td>\n",
       "      <td>0</td>\n",
       "    </tr>\n",
       "    <tr>\n",
       "      <th>4</th>\n",
       "      <td>50000</td>\n",
       "      <td>1</td>\n",
       "      <td>2</td>\n",
       "      <td>1</td>\n",
       "      <td>57</td>\n",
       "      <td>-1</td>\n",
       "      <td>0</td>\n",
       "      <td>-1</td>\n",
       "      <td>0</td>\n",
       "      <td>0</td>\n",
       "      <td>...</td>\n",
       "      <td>20940</td>\n",
       "      <td>19146</td>\n",
       "      <td>19131</td>\n",
       "      <td>2000</td>\n",
       "      <td>36681</td>\n",
       "      <td>10000</td>\n",
       "      <td>9000</td>\n",
       "      <td>689</td>\n",
       "      <td>679</td>\n",
       "      <td>0</td>\n",
       "    </tr>\n",
       "  </tbody>\n",
       "</table>\n",
       "<p>5 rows × 24 columns</p>\n",
       "</div>"
      ],
      "text/plain": [
       "   LIMIT_BAL  SEX  EDUCATION  MARRIAGE  AGE  PAY_0  PAY_2  PAY_3  PAY_4  \\\n",
       "0      20000    2          2         1   24      2      2     -1     -1   \n",
       "1     120000    2          2         2   26     -1      2      0      0   \n",
       "2      90000    2          2         2   34      0      0      0      0   \n",
       "3      50000    2          2         1   37      0      0      0      0   \n",
       "4      50000    1          2         1   57     -1      0     -1      0   \n",
       "\n",
       "   PAY_5  ...  BILL_AMT4  BILL_AMT5  BILL_AMT6  PAY_AMT1  PAY_AMT2  PAY_AMT3  \\\n",
       "0     -2  ...          0          0          0         0       689         0   \n",
       "1      0  ...       3272       3455       3261         0      1000      1000   \n",
       "2      0  ...      14331      14948      15549      1518      1500      1000   \n",
       "3      0  ...      28314      28959      29547      2000      2019      1200   \n",
       "4      0  ...      20940      19146      19131      2000     36681     10000   \n",
       "\n",
       "   PAY_AMT4  PAY_AMT5  PAY_AMT6  DEFAULT  \n",
       "0         0         0         0        1  \n",
       "1      1000         0      2000        1  \n",
       "2      1000      1000      5000        0  \n",
       "3      1100      1069      1000        0  \n",
       "4      9000       689       679        0  \n",
       "\n",
       "[5 rows x 24 columns]"
      ]
     },
     "execution_count": 5,
     "metadata": {},
     "output_type": "execute_result"
    }
   ],
   "source": [
    "df.drop('ID', axis = 1, inplace= True)\n",
    "df.head()"
   ]
  },
  {
   "cell_type": "code",
   "execution_count": 6,
   "id": "57155266",
   "metadata": {},
   "outputs": [
    {
     "data": {
      "text/plain": [
       "LIMIT_BAL    int64\n",
       "SEX          int64\n",
       "EDUCATION    int64\n",
       "MARRIAGE     int64\n",
       "AGE          int64\n",
       "PAY_0        int64\n",
       "PAY_2        int64\n",
       "PAY_3        int64\n",
       "PAY_4        int64\n",
       "PAY_5        int64\n",
       "PAY_6        int64\n",
       "BILL_AMT1    int64\n",
       "BILL_AMT2    int64\n",
       "BILL_AMT3    int64\n",
       "BILL_AMT4    int64\n",
       "BILL_AMT5    int64\n",
       "BILL_AMT6    int64\n",
       "PAY_AMT1     int64\n",
       "PAY_AMT2     int64\n",
       "PAY_AMT3     int64\n",
       "PAY_AMT4     int64\n",
       "PAY_AMT5     int64\n",
       "PAY_AMT6     int64\n",
       "DEFAULT      int64\n",
       "dtype: object"
      ]
     },
     "execution_count": 6,
     "metadata": {},
     "output_type": "execute_result"
    }
   ],
   "source": [
    "df.dtypes"
   ]
  },
  {
   "cell_type": "code",
   "execution_count": 7,
   "id": "431335fa",
   "metadata": {},
   "outputs": [
    {
     "data": {
      "text/plain": [
       "array([2, 1, 3, 5, 4, 6, 0], dtype=int64)"
      ]
     },
     "execution_count": 7,
     "metadata": {},
     "output_type": "execute_result"
    }
   ],
   "source": [
    "df['EDUCATION'].unique()"
   ]
  },
  {
   "cell_type": "markdown",
   "id": "f7624036",
   "metadata": {},
   "source": [
    "-So education contain 0 - 6 int\n",
    "It represents:\n",
    ">0\tKhông rõ / Không khai báo\n",
    ">1\tSau đại học (Graduate School)\n",
    ">2\tĐại học (University)\n",
    ">3\tTrung cấp / Cao đẳng (High School)\n",
    ">4\tCấp 2 (Junior High School) hoặc thấp hơn\n",
    ">5\tCấp 1 hoặc trình độ rất thấp\n",
    ">6\tKhác (Other)"
   ]
  },
  {
   "cell_type": "markdown",
   "id": "3f3dd38f",
   "metadata": {},
   "source": [
    "Therefor Im gonna treat 0 as missing value"
   ]
  },
  {
   "cell_type": "code",
   "execution_count": 8,
   "id": "f834199c",
   "metadata": {},
   "outputs": [
    {
     "data": {
      "text/plain": [
       "array([1, 2, 3, 0], dtype=int64)"
      ]
     },
     "execution_count": 8,
     "metadata": {},
     "output_type": "execute_result"
    }
   ],
   "source": [
    "df.MARRIAGE.unique()"
   ]
  },
  {
   "cell_type": "markdown",
   "id": "ef06f348",
   "metadata": {},
   "source": [
    "Just like EDUCATION, MARRIGE ALSO CONTAINS 0 so im gonna assume it is missing data"
   ]
  },
  {
   "cell_type": "markdown",
   "id": "cac605b6",
   "metadata": {},
   "source": [
    "***Missing Data Part 2**** Dealing with Missing Data"
   ]
  },
  {
   "cell_type": "markdown",
   "id": "311486d6",
   "metadata": {},
   "source": [
    "#Questions:\n",
    "1> Should we delete rows with missing data?\n",
    "2> Should we impute?(\"Educated guessing\")"
   ]
  },
  {
   "cell_type": "code",
   "execution_count": 9,
   "id": "1139746b",
   "metadata": {},
   "outputs": [
    {
     "data": {
      "text/plain": [
       "68"
      ]
     },
     "execution_count": 9,
     "metadata": {},
     "output_type": "execute_result"
    }
   ],
   "source": [
    "len(df.loc[(df[\"EDUCATION\"] == 0) | (df[\"MARRIAGE\"] == 0)])"
   ]
  },
  {
   "cell_type": "code",
   "execution_count": 10,
   "id": "681ddc84",
   "metadata": {},
   "outputs": [
    {
     "data": {
      "text/plain": [
       "30000"
      ]
     },
     "execution_count": 10,
     "metadata": {},
     "output_type": "execute_result"
    }
   ],
   "source": [
    "len(df)"
   ]
  },
  {
   "cell_type": "markdown",
   "id": "49f1ce02",
   "metadata": {},
   "source": [
    "68 to 30000 only small percentage of the data in dataset contains missing value so I think we I kind of could drop all the rows contains missing data"
   ]
  },
  {
   "cell_type": "code",
   "execution_count": 11,
   "id": "c6af0637",
   "metadata": {},
   "outputs": [
    {
     "data": {
      "text/plain": [
       "29932"
      ]
     },
     "execution_count": 11,
     "metadata": {},
     "output_type": "execute_result"
    }
   ],
   "source": [
    "#Drop the rows with missing data\n",
    "df = df.loc[(df['EDUCATION'] != 0) & (df['MARRIAGE'] != 0)]\n",
    "len(df)"
   ]
  },
  {
   "cell_type": "code",
   "execution_count": 12,
   "metadata": {},
   "outputs": [
    {
     "data": {
      "text/plain": [
       "array([2, 1, 3, 5, 4, 6], dtype=int64)"
      ]
     },
     "execution_count": 12,
     "metadata": {},
     "output_type": "execute_result"
    }
   ],
   "source": [
    "df['EDUCATION'].unique()"
   ]
  },
  {
   "cell_type": "markdown",
   "id": "760c9e87",
   "metadata": {},
   "source": [
    "**Downsample the data**"
   ]
  },
  {
   "cell_type": "markdown",
   "id": "89201fa4",
   "metadata": {},
   "source": [
    "Now im gonna check the balance of our dataset"
   ]
  },
  {
   "cell_type": "code",
   "execution_count": 13,
   "id": "bfb914b0",
   "metadata": {},
   "outputs": [
    {
     "name": "stdout",
     "output_type": "stream",
     "text": [
      "Non Default data: 23301\n",
      "Default data: 6631\n",
      "Different between Non_default/Default = 3.5139496305232996\n"
     ]
    }
   ],
   "source": [
    "df_no_default = df.loc[df['DEFAULT'] == 0].copy()\n",
    "print(f\"Non Default data: {len(df_no_default)}\")\n",
    "df_default = df.loc[df['DEFAULT'] == 1].copy()\n",
    "print(f\"Default data: {len(df_default)}\")\n",
    "print(f\"Different between Non_default/Default = {len(df_no_default) / len(df_default)}\")\n"
   ]
  },
  {
   "cell_type": "markdown",
   "id": "36a360dc",
   "metadata": {},
   "source": [
    "It clearly a imbalanced dataset 1 to 3.5 so I could make decision to downsample the data"
   ]
  },
  {
   "cell_type": "code",
   "execution_count": 14,
   "id": "6741f360",
   "metadata": {},
   "outputs": [
    {
     "data": {
      "text/html": [
       "<div>\n",
       "<style scoped>\n",
       "    .dataframe tbody tr th:only-of-type {\n",
       "        vertical-align: middle;\n",
       "    }\n",
       "\n",
       "    .dataframe tbody tr th {\n",
       "        vertical-align: top;\n",
       "    }\n",
       "\n",
       "    .dataframe thead th {\n",
       "        text-align: right;\n",
       "    }\n",
       "</style>\n",
       "<table border=\"1\" class=\"dataframe\">\n",
       "  <thead>\n",
       "    <tr style=\"text-align: right;\">\n",
       "      <th></th>\n",
       "      <th>LIMIT_BAL</th>\n",
       "      <th>SEX</th>\n",
       "      <th>EDUCATION</th>\n",
       "      <th>MARRIAGE</th>\n",
       "      <th>AGE</th>\n",
       "      <th>PAY_0</th>\n",
       "      <th>PAY_2</th>\n",
       "      <th>PAY_3</th>\n",
       "      <th>PAY_4</th>\n",
       "      <th>PAY_5</th>\n",
       "      <th>...</th>\n",
       "      <th>BILL_AMT4</th>\n",
       "      <th>BILL_AMT5</th>\n",
       "      <th>BILL_AMT6</th>\n",
       "      <th>PAY_AMT1</th>\n",
       "      <th>PAY_AMT2</th>\n",
       "      <th>PAY_AMT3</th>\n",
       "      <th>PAY_AMT4</th>\n",
       "      <th>PAY_AMT5</th>\n",
       "      <th>PAY_AMT6</th>\n",
       "      <th>DEFAULT</th>\n",
       "    </tr>\n",
       "  </thead>\n",
       "  <tbody>\n",
       "    <tr>\n",
       "      <th>641</th>\n",
       "      <td>130000</td>\n",
       "      <td>2</td>\n",
       "      <td>3</td>\n",
       "      <td>1</td>\n",
       "      <td>28</td>\n",
       "      <td>0</td>\n",
       "      <td>0</td>\n",
       "      <td>0</td>\n",
       "      <td>0</td>\n",
       "      <td>-2</td>\n",
       "      <td>...</td>\n",
       "      <td>0</td>\n",
       "      <td>0</td>\n",
       "      <td>0</td>\n",
       "      <td>2500</td>\n",
       "      <td>1000</td>\n",
       "      <td>0</td>\n",
       "      <td>0</td>\n",
       "      <td>0</td>\n",
       "      <td>0</td>\n",
       "      <td>0</td>\n",
       "    </tr>\n",
       "    <tr>\n",
       "      <th>4678</th>\n",
       "      <td>170000</td>\n",
       "      <td>1</td>\n",
       "      <td>3</td>\n",
       "      <td>1</td>\n",
       "      <td>29</td>\n",
       "      <td>0</td>\n",
       "      <td>0</td>\n",
       "      <td>0</td>\n",
       "      <td>0</td>\n",
       "      <td>0</td>\n",
       "      <td>...</td>\n",
       "      <td>35234</td>\n",
       "      <td>32869</td>\n",
       "      <td>33862</td>\n",
       "      <td>7200</td>\n",
       "      <td>7500</td>\n",
       "      <td>1200</td>\n",
       "      <td>1200</td>\n",
       "      <td>1500</td>\n",
       "      <td>1300</td>\n",
       "      <td>0</td>\n",
       "    </tr>\n",
       "    <tr>\n",
       "      <th>16004</th>\n",
       "      <td>180000</td>\n",
       "      <td>2</td>\n",
       "      <td>2</td>\n",
       "      <td>1</td>\n",
       "      <td>29</td>\n",
       "      <td>0</td>\n",
       "      <td>0</td>\n",
       "      <td>0</td>\n",
       "      <td>0</td>\n",
       "      <td>0</td>\n",
       "      <td>...</td>\n",
       "      <td>26662</td>\n",
       "      <td>26166</td>\n",
       "      <td>26176</td>\n",
       "      <td>1800</td>\n",
       "      <td>1800</td>\n",
       "      <td>1500</td>\n",
       "      <td>1056</td>\n",
       "      <td>950</td>\n",
       "      <td>1000</td>\n",
       "      <td>0</td>\n",
       "    </tr>\n",
       "    <tr>\n",
       "      <th>22974</th>\n",
       "      <td>210000</td>\n",
       "      <td>2</td>\n",
       "      <td>2</td>\n",
       "      <td>2</td>\n",
       "      <td>32</td>\n",
       "      <td>-2</td>\n",
       "      <td>-2</td>\n",
       "      <td>-2</td>\n",
       "      <td>-2</td>\n",
       "      <td>-2</td>\n",
       "      <td>...</td>\n",
       "      <td>0</td>\n",
       "      <td>0</td>\n",
       "      <td>0</td>\n",
       "      <td>979</td>\n",
       "      <td>412</td>\n",
       "      <td>0</td>\n",
       "      <td>0</td>\n",
       "      <td>0</td>\n",
       "      <td>0</td>\n",
       "      <td>0</td>\n",
       "    </tr>\n",
       "    <tr>\n",
       "      <th>17535</th>\n",
       "      <td>190000</td>\n",
       "      <td>2</td>\n",
       "      <td>3</td>\n",
       "      <td>1</td>\n",
       "      <td>45</td>\n",
       "      <td>0</td>\n",
       "      <td>0</td>\n",
       "      <td>0</td>\n",
       "      <td>0</td>\n",
       "      <td>0</td>\n",
       "      <td>...</td>\n",
       "      <td>81778</td>\n",
       "      <td>83082</td>\n",
       "      <td>84811</td>\n",
       "      <td>3300</td>\n",
       "      <td>3331</td>\n",
       "      <td>3359</td>\n",
       "      <td>2663</td>\n",
       "      <td>2751</td>\n",
       "      <td>3000</td>\n",
       "      <td>0</td>\n",
       "    </tr>\n",
       "  </tbody>\n",
       "</table>\n",
       "<p>5 rows × 24 columns</p>\n",
       "</div>"
      ],
      "text/plain": [
       "       LIMIT_BAL  SEX  EDUCATION  MARRIAGE  AGE  PAY_0  PAY_2  PAY_3  PAY_4  \\\n",
       "641       130000    2          3         1   28      0      0      0      0   \n",
       "4678      170000    1          3         1   29      0      0      0      0   \n",
       "16004     180000    2          2         1   29      0      0      0      0   \n",
       "22974     210000    2          2         2   32     -2     -2     -2     -2   \n",
       "17535     190000    2          3         1   45      0      0      0      0   \n",
       "\n",
       "       PAY_5  ...  BILL_AMT4  BILL_AMT5  BILL_AMT6  PAY_AMT1  PAY_AMT2  \\\n",
       "641       -2  ...          0          0          0      2500      1000   \n",
       "4678       0  ...      35234      32869      33862      7200      7500   \n",
       "16004      0  ...      26662      26166      26176      1800      1800   \n",
       "22974     -2  ...          0          0          0       979       412   \n",
       "17535      0  ...      81778      83082      84811      3300      3331   \n",
       "\n",
       "       PAY_AMT3  PAY_AMT4  PAY_AMT5  PAY_AMT6  DEFAULT  \n",
       "641           0         0         0         0        0  \n",
       "4678       1200      1200      1500      1300        0  \n",
       "16004      1500      1056       950      1000        0  \n",
       "22974         0         0         0         0        0  \n",
       "17535      3359      2663      2751      3000        0  \n",
       "\n",
       "[5 rows x 24 columns]"
      ]
     },
     "execution_count": 14,
     "metadata": {},
     "output_type": "execute_result"
    }
   ],
   "source": [
    "#Downsample majority class (Non_Default_data)\n",
    "df_no_default = resample(df_no_default, replace=False, n_samples=len(df_default), random_state=42)\n",
    "\n",
    "df_downsampled = pd.concat([df_no_default, df_default])\n",
    "df_downsampled.head()"
   ]
  },
  {
   "cell_type": "code",
   "execution_count": 15,
   "id": "95da3b64",
   "metadata": {},
   "outputs": [
    {
     "data": {
      "text/plain": [
       "13262"
      ]
     },
     "execution_count": 15,
     "metadata": {},
     "output_type": "execute_result"
    }
   ],
   "source": [
    "len(df_downsampled)"
   ]
  },
  {
   "cell_type": "markdown",
   "id": "aea6145c",
   "metadata": {},
   "source": [
    "Alright looks much better"
   ]
  },
  {
   "cell_type": "markdown",
   "id": "2ce2ce46",
   "metadata": {},
   "source": [
    "Now lets Create the Target and Features or some might says Dependents and Independents"
   ]
  },
  {
   "cell_type": "code",
   "execution_count": 16,
   "metadata": {},
   "outputs": [],
   "source": [
    "X = df_downsampled[[c for c in df_downsampled if c != 'DEFAULT']].copy() #Independent\n",
    "y = df_downsampled['DEFAULT'].copy() # Dependet"
   ]
  },
  {
   "cell_type": "markdown",
   "id": "594e2144",
   "metadata": {},
   "source": [
    "Now lets decide type of the data numerical or categorical data "
   ]
  },
  {
   "cell_type": "markdown",
   "id": "c90f2eca",
   "metadata": {},
   "source": [
    "=> categorical data with continuous value represented : [SEX , EDUCATION, MARRIAGE, PAY_, DEFAULT]\n",
    "numerical data : [AGE, LIMIT_BAL, BILL_AMT, PAY_AMT]"
   ]
  },
  {
   "cell_type": "code",
   "execution_count": 17,
   "id": "6ba1c383",
   "metadata": {},
   "outputs": [
    {
     "data": {
      "text/plain": [
       "Index(['LIMIT_BAL', 'SEX', 'EDUCATION', 'MARRIAGE', 'AGE', 'PAY_0', 'PAY_2',\n",
       "       'PAY_3', 'PAY_4', 'PAY_5', 'PAY_6', 'BILL_AMT1', 'BILL_AMT2',\n",
       "       'BILL_AMT3', 'BILL_AMT4', 'BILL_AMT5', 'BILL_AMT6', 'PAY_AMT1',\n",
       "       'PAY_AMT2', 'PAY_AMT3', 'PAY_AMT4', 'PAY_AMT5', 'PAY_AMT6'],\n",
       "      dtype='object')"
      ]
     },
     "execution_count": 17,
     "metadata": {},
     "output_type": "execute_result"
    }
   ],
   "source": [
    "X.columns"
   ]
  },
  {
   "cell_type": "code",
   "execution_count": 18,
   "id": "5e285431",
   "metadata": {},
   "outputs": [],
   "source": [
    "from sklearn.compose import ColumnTransformer\n",
    "from sklearn.preprocessing import OneHotEncoder, StandardScaler\n",
    "from sklearn.pipeline import Pipeline\n",
    "\n",
    "pay_cols = [f'PAY_{i}' for i in [0,2,3,4,5,6]]\n",
    "cols_to_convert = ['SEX' , 'EDUCATION', 'MARRIAGE'] + pay_cols\n",
    "X[cols_to_convert] = X[cols_to_convert].astype('object')\n",
    "cat_features = X.select_dtypes(include='object').columns.tolist()\n",
    "num_features = X.select_dtypes(exclude='object').columns.tolist()\n",
    "#Split dataset\n",
    "X_train, X_test, y_train, y_test = train_test_split(X, y, test_size=0.2, random_state=42)\n",
    "\n",
    "#Since Onehot Encoding returns a spare matrix so we need to add the cols name back\n",
    "def post_onehotencoding_to_df(X_transformed,preprocessor ,cat_features, num_features): \n",
    "    \"\"\"\n",
    "    Convert sparse matrix output from ColumnTransformer to DataFrame with column names.\n",
    "    \"\"\"      \n",
    "    ohe = preprocessor.named_transformers_['cat']\n",
    "    ohe_features = ohe.get_feature_names_out(cat_features)\n",
    "    #concat with num features\n",
    "    all_features = list(ohe_features) +num_features\n",
    "\n",
    "    #X_train_transformed\n",
    "    X_transformed  = pd.DataFrame.sparse.from_spmatrix(X_transformed, columns= all_features)\n",
    "    return X_transformed\n",
    "\n",
    "#Pipeline for processing data\n",
    "preprocessor = ColumnTransformer(\n",
    "    transformers=[\n",
    "        ('cat', OneHotEncoder(handle_unknown='ignore'), cat_features), #One hot coding for categorical features\n",
    "        ('num', StandardScaler(), num_features)\n",
    "    ]\n",
    ")\n",
    "\n",
    "clf_pipeline = Pipeline(steps=[\n",
    "    ('preprocessor', preprocessor),\n",
    "    ('classifier', SVC(kernel = 'rbf',C = 1.0, gamma='scale'))\n",
    "])\n",
    "\n",
    "\n",
    "#Fit the model through pipeline\n",
    "clf_pipeline.fit(X_train, y_train)\n",
    "\n",
    "#predictions\n",
    "y_pred = clf_pipeline.predict(X_test)"
   ]
  },
  {
   "cell_type": "code",
   "execution_count": 19,
   "id": "5ceafedd",
   "metadata": {},
   "outputs": [
    {
     "data": {
      "text/plain": [
       "0.5667755170501879"
      ]
     },
     "execution_count": 19,
     "metadata": {},
     "output_type": "execute_result"
    }
   ],
   "source": [
    "#Check loss \n",
    "from sklearn.metrics import hinge_loss\n",
    "y_score = clf_pipeline.decision_function(X_train)\n",
    "hinge = hinge_loss(y_train, y_score)\n",
    "hinge"
   ]
  },
  {
   "cell_type": "code",
   "execution_count": 20,
   "id": "f42ddcb2",
   "metadata": {},
   "outputs": [
    {
     "data": {
      "text/plain": [
       "<sklearn.metrics._plot.confusion_matrix.ConfusionMatrixDisplay at 0x1f428a6f520>"
      ]
     },
     "execution_count": 20,
     "metadata": {},
     "output_type": "execute_result"
    },
    {
     "data": {
      "image/png": "[encoded data removed]",
      "text/plain": [
       "<Figure size 640x480 with 2 Axes>"
      ]
     },
     "metadata": {},
     "output_type": "display_data"
    }
   ],
   "source": [
    "ConfusionMatrixDisplay.from_estimator(clf_pipeline, X_test, y_test)"
   ]
  },
  {
   "cell_type": "markdown",
   "id": "960db2f9",
   "metadata": {},
   "source": [
    "***So Far it looks alright but not great Lets Optimize Parameters with Cross Validation and GridSearchCV***"
   ]
  },
  {
   "cell_type": "code",
   "execution_count": null,
   "id": "8b0ebdc3",
   "metadata": {},
   "outputs": [
    {
     "name": "stdout",
     "output_type": "stream",
     "text": [
      "Best params:  {'classifier__C': 0.5, 'classifier__gamma': 0.1, 'classifier__kernel': 'rbf'}\n",
      "Best accuracy 0.7038355282949864\n"
     ]
    }
   ],
   "source": [
    "param_grid = [\n",
    "    {\n",
    "        'classifier__C': [0.5, 1, 10, 100],\n",
    "        'classifier__gamma': ['scale', 1, 0.1, 0.01, 0.001, 0.0001],\n",
    "        'classifier__kernel': ['rbf']\n",
    "    }\n",
    "]\n",
    "\n",
    "\n",
    "grid_search = GridSearchCV(\n",
    "    clf_pipeline,\n",
    "    param_grid,\n",
    "    cv = 5, \n",
    "    scoring='accuracy'\n",
    ")\n",
    "\n",
    "grid_search.fit(X_train, y_train)\n",
    "\n",
    "print(\"Best params: \", grid_search.best_params_)\n",
    "print(\"Best accuracy\", grid_search.best_score_)"
   ]
  },
  {
   "cell_type": "markdown",
   "id": "cc9dc931",
   "metadata": {},
   "source": [
    "***Pretty solid we got 70% accuracy , slightly improved ***"
   ]
  },
  {
   "cell_type": "code",
   "execution_count": 23,
   "id": "9e0bb214",
   "metadata": {},
   "outputs": [
    {
     "data": {
      "text/plain": [
       "24"
      ]
     },
     "execution_count": 23,
     "metadata": {},
     "output_type": "execute_result"
    }
   ],
   "source": [
    "len(df_downsampled.columns)"
   ]
  },
  {
   "cell_type": "markdown",
   "id": "41edf1e3",
   "metadata": {},
   "source": [
    "Now lets play around with other method like PCA , others models, PI, PDP, SHAP to insights ,...\n",
    "But first lets generate confusion matrix again to see what changed\n"
   ]
  },
  {
   "cell_type": "code",
   "execution_count": null,
   "id": "3b0d55bb",
   "metadata": {},
   "outputs": [
    {
     "data": {
      "text/plain": [
       "<sklearn.metrics._plot.confusion_matrix.ConfusionMatrixDisplay at 0x1f428aed150>"
      ]
     },
     "execution_count": 27,
     "metadata": {},
     "output_type": "execute_result"
    },
    {
     "data": {
      "image/png": "[encoded data removed]",
      "text/plain": [
       "<Figure size 640x480 with 2 Axes>"
      ]
     },
     "metadata": {},
     "output_type": "display_data"
    }
   ],
   "source": [
    "clf_pipeline = Pipeline(steps=[\n",
    "    ('preprocessor', preprocessor),\n",
    "    ('classifier', SVC(kernel = 'rbf',C = 0.5, gamma=0.1))#I use new params from the best param above\n",
    "])\n",
    "\n",
    "clf_pipeline.fit(X_train, y_train)\n",
    "\n",
    "ConfusionMatrixDisplay.from_estimator(clf_pipeline,\n",
    "                       X_test,\n",
    "                       y_test,\n",
    "                       display_labels=[\"Did not default\", \"Default\"])"
   ]
  },
  {
   "cell_type": "code",
   "execution_count": 28,
   "id": "fccd779a",
   "metadata": {},
   "outputs": [
    {
     "data": {
      "text/plain": [
       "0.5559195246876135"
      ]
     },
     "execution_count": 28,
     "metadata": {},
     "output_type": "execute_result"
    }
   ],
   "source": [
    "y_score = clf_pipeline.decision_function(X_train)\n",
    "hinge = hinge_loss(y_train, y_score)\n",
    "hinge"
   ]
  },
  {
   "cell_type": "code",
   "execution_count": null,
   "id": "81e3d7b4",
   "metadata": {},
   "outputs": [],
   "source": []
  },
  {
   "cell_type": "markdown",
   "id": "b703e4e5",
   "metadata": {},
   "source": [
    "***Aight lets try out PCA see if it improve our outcome***"
   ]
  },
  {
   "cell_type": "markdown",
   "id": "43105165",
   "metadata": {},
   "source": [
    "**Before apply PCA Id like to check KDE and viasulize KDE **"
   ]
  },
  {
   "cell_type": "code",
   "execution_count": null,
   "id": "e7c53509",
   "metadata": {},
   "outputs": [],
   "source": [
    "# import seaborn as sns\n",
    "# import matplotlib.pyplot as plt\n",
    "\n",
    "# for col in num_features:\n",
    "#     sns.kdeplot(df[col], fill=True)\n",
    "#     plt.title(f'Distribution of {col}')\n",
    "#     plt.show()\n",
    "\n",
    "#commented cuz it to long"
   ]
  },
  {
   "cell_type": "markdown",
   "id": "b1ed1c19",
   "metadata": {},
   "source": [
    "***Lets check out PCA explained variance ratio***\n",
    "*A method to see how the features explain the target*"
   ]
  },
  {
   "cell_type": "code",
   "execution_count": 33,
   "id": "56b7863a",
   "metadata": {},
   "outputs": [
    {
     "name": "stdout",
     "output_type": "stream",
     "text": [
      "we need 21 to explain 95% information of the data\n"
     ]
    }
   ],
   "source": [
    "#Check how many feature can explain 95% data so we can reduce dataset's dimensions \n",
    "X_train_transformed = preprocessor.fit_transform(X_train) #We need to scale the data before apply to pca\n",
    "\n",
    "pca = PCA().fit(X_train_transformed)\n",
    "\n",
    "#cumulative_variance\n",
    "cumulative_variance = np.cumsum(pca.explained_variance_ratio_)\n",
    "\n",
    "#Num component we need to explain 95% data\n",
    "n_compo_95 = np.argmax(cumulative_variance >= 0.95) + 1\n",
    "\n",
    "print(f\"we need {n_compo_95} to explain 95% information of the data\")\n"
   ]
  },
  {
   "cell_type": "code",
   "execution_count": 34,
   "id": "bb2d9460",
   "metadata": {},
   "outputs": [
    {
     "data": {
      "image/png": "[encoded data removed]",
      "text/plain": [
       "<Figure size 640x480 with 1 Axes>"
      ]
     },
     "metadata": {},
     "output_type": "display_data"
    }
   ],
   "source": [
    "#Lets visuallize\n",
    "plt.plot(cumulative_variance, marker='o')\n",
    "plt.axhline(y=0.95, color='r', linestyle='--')\n",
    "plt.xlabel('Number of Principal Components')\n",
    "plt.ylabel('Cumulative Explained Variance')\n",
    "plt.title('Scree Plot')\n",
    "plt.grid(True)\n",
    "plt.show()"
   ]
  },
  {
   "cell_type": "markdown",
   "id": "1a86754b",
   "metadata": {},
   "source": [
    "***Aight seem pretty solid to me Lets see how our performance will be !!!***"
   ]
  },
  {
   "cell_type": "code",
   "execution_count": 38,
   "id": "9e24e485",
   "metadata": {},
   "outputs": [
    {
     "data": {
      "text/plain": [
       "<sklearn.metrics._plot.confusion_matrix.ConfusionMatrixDisplay at 0x1f4413a38e0>"
      ]
     },
     "execution_count": 38,
     "metadata": {},
     "output_type": "execute_result"
    },
    {
     "data": {
      "image/png": "[encoded data removed]",
      "text/plain": [
       "<Figure size 640x480 with 2 Axes>"
      ]
     },
     "metadata": {},
     "output_type": "display_data"
    }
   ],
   "source": [
    "pca = PCA(n_components=21)#by default, PCA() centers the data but not scale it\n",
    "#Pipeline for processing data\n",
    "preprocessor = ColumnTransformer(\n",
    "    transformers=[\n",
    "        ('cat', OneHotEncoder(handle_unknown='ignore'), cat_features), #One hot coding for categorical features\n",
    "        ('num', StandardScaler(), num_features)\n",
    "        \n",
    "    ]\n",
    ")\n",
    "\n",
    "clf_pipeline = Pipeline(steps=[\n",
    "    ('preprocessor', preprocessor),\n",
    "    ('pca', pca),\n",
    "    ('classifier', SVC(kernel = 'rbf',C = 0.5, gamma=0.1))#I use new params from the best param above\n",
    "])\n",
    "\n",
    "clf_pipeline.fit(X_train, y_train)\n",
    "\n",
    "ConfusionMatrixDisplay.from_estimator(clf_pipeline,\n",
    "                       X_test,\n",
    "                       y_test,\n",
    "                       display_labels=[\"Did not default\", \"Default\"])"
   ]
  },
  {
   "cell_type": "markdown",
   "id": "519a74a3",
   "metadata": {},
   "source": [
    "***Not the best but there is improvement !!!***"
   ]
  },
  {
   "cell_type": "markdown",
   "id": "35dd54a2",
   "metadata": {},
   "source": [
    "But lets see if is there any better params for our new dataset after PCA"
   ]
  },
  {
   "cell_type": "code",
   "execution_count": 39,
   "id": "4411c2d5",
   "metadata": {},
   "outputs": [
    {
     "name": "stdout",
     "output_type": "stream",
     "text": [
      "Best params:  {'classifier__C': 10, 'classifier__gamma': 0.01, 'classifier__kernel': 'rbf'}\n",
      "Best accuracy 0.7048719305753115\n"
     ]
    }
   ],
   "source": [
    "param_grid = [\n",
    "    {\n",
    "        'classifier__C': [0.5, 1, 10, 100],\n",
    "        'classifier__gamma': ['scale', 1, 0.1, 0.01, 0.001, 0.0001],\n",
    "        'classifier__kernel': ['rbf']\n",
    "    }\n",
    "]\n",
    "\n",
    "\n",
    "grid_search = GridSearchCV(\n",
    "    clf_pipeline,\n",
    "    param_grid,\n",
    "    cv = 5, \n",
    "    scoring='accuracy'\n",
    ")\n",
    "\n",
    "grid_search.fit(X_train, y_train)\n",
    "\n",
    "print(\"Best params: \", grid_search.best_params_)\n",
    "print(\"Best accuracy\", grid_search.best_score_)"
   ]
  },
  {
   "cell_type": "code",
   "execution_count": 55,
   "id": "97fb356e",
   "metadata": {},
   "outputs": [
    {
     "name": "stderr",
     "output_type": "stream",
     "text": [
      "c:\\Users\\lehoa\\AppData\\Local\\Programs\\Python\\Python310\\lib\\site-packages\\sklearn\\model_selection\\_search.py:317: UserWarning: The total space of parameters 1 is smaller than n_iter=10. Running 1 iterations. For exhaustive searches, use GridSearchCV.\n",
      "  warnings.warn(\n"
     ]
    },
    {
     "name": "stdout",
     "output_type": "stream",
     "text": [
      "✅ Best parameters for LogisticRegression: {}\n",
      "🏆 Best score for LogisticRegression: 0.6587\n"
     ]
    },
    {
     "name": "stderr",
     "output_type": "stream",
     "text": [
      "c:\\Users\\lehoa\\AppData\\Local\\Programs\\Python\\Python310\\lib\\site-packages\\sklearn\\model_selection\\_search.py:317: UserWarning: The total space of parameters 8 is smaller than n_iter=10. Running 8 iterations. For exhaustive searches, use GridSearchCV.\n",
      "  warnings.warn(\n"
     ]
    },
    {
     "name": "stdout",
     "output_type": "stream",
     "text": [
      "✅ Best parameters for RandomForest: {'n_estimators': 200, 'min_samples_split': 5, 'max_depth': 10}\n",
      "🏆 Best score for RandomForest: 0.6852\n"
     ]
    },
    {
     "name": "stderr",
     "output_type": "stream",
     "text": [
      "c:\\Users\\lehoa\\AppData\\Local\\Programs\\Python\\Python310\\lib\\site-packages\\sklearn\\model_selection\\_search.py:317: UserWarning: The total space of parameters 8 is smaller than n_iter=10. Running 8 iterations. For exhaustive searches, use GridSearchCV.\n",
      "  warnings.warn(\n",
      "c:\\Users\\lehoa\\AppData\\Local\\Programs\\Python\\Python310\\lib\\site-packages\\xgboost\\training.py:183: UserWarning: [17:00:16] WARNING: C:\\actions-runner\\_work\\xgboost\\xgboost\\src\\learner.cc:738: \n",
      "Parameters: { \"use_label_encoder\" } are not used.\n",
      "\n",
      "  bst.update(dtrain, iteration=i, fobj=obj)\n"
     ]
    },
    {
     "name": "stdout",
     "output_type": "stream",
     "text": [
      "✅ Best parameters for XGBoost: {'n_estimators': 100, 'max_depth': 3, 'learning_rate': 0.1}\n",
      "🏆 Best score for XGBoost: 0.6879\n",
      "✅ Best parameters for MLP: {'solver': 'adam', 'learning_rate': 'constant', 'hidden_layer_sizes': (10, 10), 'alpha': 0.01, 'activation': 'relu'}\n",
      "🏆 Best score for MLP: 0.6869\n"
     ]
    }
   ],
   "source": [
    "from sklearn.model_selection import GridSearchCV, KFold,RandomizedSearchCV\n",
    "from sklearn.ensemble import RandomForestClassifier\n",
    "from sklearn.linear_model import LogisticRegression\n",
    "from xgboost import XGBClassifier\n",
    "from sklearn.neural_network import MLPClassifier\n",
    "from sklearn.metrics import make_scorer, f1_score\n",
    "import numpy as np\n",
    "\n",
    "X_train_transformed = preprocessor.fit_transform(X_train)\n",
    "# Định nghĩa mô hình classification\n",
    "models = {\n",
    "    'LogisticRegression': LogisticRegression(max_iter=1000),\n",
    "    'RandomForest': RandomForestClassifier(random_state=42),\n",
    "    'XGBoost': XGBClassifier(random_state=42, use_label_encoder=False, eval_metric='logloss'),\n",
    "    'MLP': MLPClassifier(random_state=42, max_iter=10000, n_iter_no_change=3, learning_rate_init=0.001)\n",
    "}\n",
    "\n",
    "# Tham số grid\n",
    "param_grids = {\n",
    "    'LogisticRegression': {},\n",
    "    'RandomForest': {\n",
    "        'n_estimators': [100, 200],\n",
    "        'max_depth': [None, 10],\n",
    "        'min_samples_split': [2, 5]\n",
    "    },\n",
    "    'XGBoost': {\n",
    "        'n_estimators': [100, 200],\n",
    "        'learning_rate': [0.01, 0.1],\n",
    "        'max_depth': [3, 6]\n",
    "    },\n",
    "    'MLP': {\n",
    "        'hidden_layer_sizes': [(10,), (10, 10)],\n",
    "        'activation': ['relu', 'tanh'],\n",
    "        'solver': ['adam'],\n",
    "        'alpha': [0.001, 0.01],\n",
    "        'learning_rate': ['constant', 'adaptive']\n",
    "    }\n",
    "}\n",
    "\n",
    "# Cross-validation\n",
    "cv = KFold(n_splits=3, shuffle=True, random_state=42)\n",
    "\n",
    "# GridSearchCV , because my pc using CPU so im using RandomizedSearchCV for effieciency\n",
    "grids = {}\n",
    "for model_name, model in models.items():\n",
    "    grids[model_name] = RandomizedSearchCV(\n",
    "        estimator=model,\n",
    "        param_distributions=param_grids[model_name],\n",
    "        cv=cv,\n",
    "        scoring='f1',  # hoặc 'accuracy', 'roc_auc', tuỳ vào mục tiêu\n",
    "        n_jobs=-1\n",
    "    )\n",
    "    grids[model_name].fit(X_train_transformed , y_train)\n",
    "    \n",
    "    best_params = grids[model_name].best_params_\n",
    "    best_score = grids[model_name].best_score_\n",
    "\n",
    "    print(f'✅ Best parameters for {model_name}: {best_params}')\n",
    "    print(f'🏆 Best score for {model_name}: {best_score:.4f}')\n"
   ]
  },
  {
   "cell_type": "markdown",
   "id": "4285f802",
   "metadata": {},
   "source": [
    "Pretty much the same accuracy but its alright lets try out other method as well"
   ]
  },
  {
   "cell_type": "markdown",
   "id": "a3a8feaa",
   "metadata": {},
   "source": [
    "Try out RandomForest"
   ]
  },
  {
   "cell_type": "code",
   "execution_count": null,
   "id": "32b8d873",
   "metadata": {},
   "outputs": [
    {
     "data": {
      "image/png": "[encoded data removed]",
      "text/plain": [
       "<Figure size 1000x600 with 1 Axes>"
      ]
     },
     "metadata": {},
     "output_type": "display_data"
    }
   ],
   "source": [
    "\n",
    "\n",
    "# Fit model\n",
    "rf_model = RandomForestClassifier(n_estimators=100, random_state=42)\n",
    "rf_model.fit(X_train, y_train)\n",
    "\n",
    "# Tính permutation importance\n",
    "perm_rf = permutation_importance(\n",
    "    rf_model,\n",
    "    X_test,\n",
    "    y_test,\n",
    "    n_repeats=10,  # số lần hoán vị (tăng lên nếu muốn kết quả ổn định hơn)\n",
    "    random_state=42,\n",
    "    n_jobs=-1\n",
    ")\n",
    "\n",
    "# Lấy tên feature từ preprocessor\n",
    "feature_names = X_test.columns.tolist()\n",
    "\n",
    "perm_df = pd.DataFrame({\n",
    "    \"feature\": feature_names,\n",
    "    \"importance_mean\": perm_rf.importances_mean,\n",
    "    \"importance_std\": perm_rf.importances_std\n",
    "}).sort_values(by=\"importance_mean\", ascending=False)\n",
    "\n",
    "# 5. Vẽ biểu đồ\n",
    "plt.figure(figsize=(10, 6))\n",
    "plt.barh(perm_df[\"feature\"], perm_df[\"importance_mean\"], xerr=perm_df[\"importance_std\"])\n",
    "plt.xlabel(\"Permutation Importance\")\n",
    "plt.title(\"Permutation Importance of Features\")\n",
    "plt.gca().invert_yaxis()\n",
    "plt.tight_layout()\n",
    "plt.show()"
   ]
  },
  {
   "cell_type": "markdown",
   "id": "706c0a66",
   "metadata": {},
   "source": [
    "***From the visualization we can tell that if the person pay or not pay the last time would determine the most the likelihood of that person will be default or not the next time!!!***"
   ]
  },
  {
   "cell_type": "markdown",
   "id": "4fc04486",
   "metadata": {},
   "source": []
  }
 ],
 "metadata": {
  "kernelspec": {
   "display_name": "Python 3",
   "language": "python",
   "name": "python3"
  },
  "language_info": {
   "codemirror_mode": {
    "name": "ipython",
    "version": 3
   },
   "file_extension": ".py",
   "mimetype": "text/x-python",
   "name": "python",
   "nbconvert_exporter": "python",
   "pygments_lexer": "ipython3",
   "version": "3.10.0"
  }
 },
 "nbformat": 4,
 "nbformat_minor": 5
}
